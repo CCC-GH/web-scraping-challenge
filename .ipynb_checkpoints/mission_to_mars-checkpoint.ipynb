{
 "cells": [
  {
   "cell_type": "code",
   "execution_count": 6,
   "metadata": {},
   "outputs": [],
   "source": [
    "\"\"\"\n",
    "Homework-12-Web-Scraping-and-Document-Databases\n",
    "\"\"\"\n",
    "from splinter import Browser\n",
    "from bs4 import BeautifulSoup\n",
    "import pandas\n",
    "import time\n",
    "path={'executable_path':'/Users/coffm/Downloads/chromedriver.exe'}\n",
    "page=Browser('chrome', **path, headless=False)"
   ]
  },
  {
   "cell_type": "code",
   "execution_count": 5,
   "metadata": {},
   "outputs": [
    {
     "name": "stdout",
     "output_type": "stream",
     "text": [
      "\n",
      "A Martian Roundtrip: NASA's Perseverance Rover Sample Tubes\n",
      "Marvels of engineering, the rover's sample tubes must be tough enough to safely bring Red Planet samples on the long journey back to Earth in immaculate condition. \n"
     ]
    }
   ],
   "source": [
    "# Web Scraping - Mission to Mars\n",
    "# Scrape the [NASA Mars page Site](https://mars.nasa.gov/page/) \n",
    "# Collect the latest page Title and Paragraph Text. Assign the text to variables that you can reference later.\n",
    "url='https://mars.nasa.gov/news/'\n",
    "page.visit(url)\n",
    "html=page.html\n",
    "soup=BeautifulSoup(html, 'html.parser')\n",
    "time.sleep(3)\n",
    "news=soup.find('div', class_='list_text')\n",
    "newsTitle=news.find('div', class_='content_title').text\n",
    "print('\\n'+newsTitle)\n",
    "newsParagraph=news.find('div', class_ ='article_teaser_body').text\n",
    "print(newsParagraph)"
   ]
  },
  {
   "cell_type": "code",
   "execution_count": null,
   "metadata": {},
   "outputs": [],
   "source": [
    "# JPL Mars Space Images - Featured Image\n",
    "# Visit the url for JPL Featured Space Image (https://www.jpl.nasa.gov/spaceimages/?search=&category=Mars).\n",
    "# Use splinter to navigate the site and find the image url for the current Featured Mars Image and assign the url string to a variable called `featured_image_url`.\n",
    "# Make sure to find the image url to the full size `.jpg` image.\n",
    "# Make sure to save a complete url string for this image.\n",
    "imageURL='https://www.jpl.nasa.gov/spaceimages/?search=&category=Mars'\n",
    "page.visit(imageURL)\n",
    "html=page.html\n",
    "soup=BeautifulSoup(html, 'html.parser')\n",
    "time.sleep(3)\n",
    "image = (soup.find_all('div', class_='carousel_items')[0].a.get('data-fancybox-href'))\n",
    "featured = 'https://www.jpl.nasa.gov'+ image\n",
    "print('\\n'+featured)"
   ]
  },
  {
   "cell_type": "code",
   "execution_count": null,
   "metadata": {},
   "outputs": [],
   "source": [
    "# Visit the Mars Facts webpage [here](https://space-facts.com/mars/) \n",
    "# Use Pandas to scrape the table containing facts about the planet including Diameter, Mass, etc.\n",
    "# Use Pandas to convert the data to a HTML table string.\n",
    "facts_url='https://space-facts.com/mars/'\n",
    "page.visit(facts_url)\n",
    "marsData=pandas.read_html(facts_url)\n",
    "marsData=pandas.DataFrame(marsData[0])\n",
    "marsFacts=marsData.to_html(header=False, index=False)\n",
    "marsFacts=((pandas.read_html(marsFacts))[0]).rename(columns={0: 'Attribute', 1: 'Value'}).set_index(['Attribute'])\n",
    "print('\\n',marsFacts)"
   ]
  },
  {
   "cell_type": "code",
   "execution_count": null,
   "metadata": {},
   "outputs": [],
   "source": [
    "# Visit the USGS Astrogeology site [here](https://astrogeology.usgs.gov/search/results?q=hemisphere+enhanced&k1=target&v1=Mars) to obtain high resolution images for each of Mar's hemispheres.\n",
    "# You will need to click each of the links to the hemispheres in order to find the image url to the full resolution image.\n",
    "# Save both the image url string for the full resolution hemisphere image, and the Hemisphere title containing the hemisphere name. Use a Python dictionary to store the data using the keys `img_url` and `title`.\n",
    "# Append the dictionary with the image url string and the hemisphere title to a list. This list will contain one dictionary for each hemisphere.\n",
    "hemispheresURL='https://astrogeology.usgs.gov/search/results?q=hemisphere+enhanced&k1=target&v1=Mars'\n",
    "page.visit(hemispheresURL)\n",
    "html=page.html\n",
    "marsHemisphere=[]\n",
    "soup=BeautifulSoup(html, 'html.parser')\n",
    "time.sleep(3)\n",
    "products=soup.find('div', class_='result-list' )\n",
    "hemispheres=products.find_all('div', class_='item')\n",
    "for hemisphere in hemispheres:\n",
    "    title=hemisphere.find('h3').text\n",
    "    title=title.replace('Enhanced', '')\n",
    "    endURL=hemisphere.find('a')['href']\n",
    "    imageURL='https://astrogeology.usgs.gov/' + endURL   \n",
    "    page.visit(imageURL)\n",
    "    html=page.html\n",
    "    soup=BeautifulSoup(html, 'html.parser')\n",
    "    downloads=soup.find('div', class_='downloads')\n",
    "    imageURL=downloads.find('a')['href']\n",
    "    marsHemisphere.append({'title': title, 'img_url': imageURL})\n",
    "from pprint import pprint\n",
    "print('\\n')\n",
    "pprint(marsHemisphere)"
   ]
  },
  {
   "cell_type": "code",
   "execution_count": null,
   "metadata": {},
   "outputs": [],
   "source": []
  }
 ],
 "metadata": {
  "kernelspec": {
   "display_name": "Python 3",
   "language": "python",
   "name": "python3"
  },
  "language_info": {
   "codemirror_mode": {
    "name": "ipython",
    "version": 3
   },
   "file_extension": ".py",
   "mimetype": "text/x-python",
   "name": "python",
   "nbconvert_exporter": "python",
   "pygments_lexer": "ipython3",
   "version": "3.8.3"
  }
 },
 "nbformat": 4,
 "nbformat_minor": 4
}
